{
  "nbformat": 4,
  "nbformat_minor": 0,
  "metadata": {
    "colab": {
      "name": "1301174658.ipynb",
      "provenance": [],
      "collapsed_sections": []
    },
    "kernelspec": {
      "name": "python3",
      "display_name": "Python 3"
    }
  },
  "cells": [
    {
      "cell_type": "code",
      "metadata": {
        "id": "bnYMuB9hNl9U",
        "colab_type": "code",
        "colab": {}
      },
      "source": [
        "import pandas as pd, matplotlib.pyplot as plt, numpy as np\n",
        "from sklearn import preprocessing, svm\n",
        "from sklearn.preprocessing import LabelEncoder\n",
        "from sklearn.model_selection import train_test_split\n",
        "from sklearn.naive_bayes import GaussianNB\n",
        "from sklearn.metrics import r2_score\n",
        "from sklearn.neighbors import KNeighborsClassifier"
      ],
      "execution_count": 0,
      "outputs": []
    },
    {
      "cell_type": "code",
      "metadata": {
        "id": "JpQ_h8MoQ-q2",
        "colab_type": "code",
        "colab": {}
      },
      "source": [
        "def centroidRandom(batas_x, batas_y, batas_z):\n",
        "\tif(batas_x>1): x = np.random.randint(0,batas_x)\n",
        "\telse : x = np.random.random()\n",
        "\tif(batas_y>1): y = np.random.randint(0,batas_y)\n",
        "\telse : y = np.random.random()\n",
        "\tif(batas_z>1): z = np.random.randint(0,batas_z)\n",
        "\telse : z = np.random.random()\n",
        "\tcentroid=[]\n",
        "\tfor x in range(3):\n",
        "\t\tcentroidX=[]\n",
        "\t\tcentroidX.append(x)\n",
        "\t\tcentroidX.append(y)\n",
        "\t\tcentroidX.append(z)\n",
        "\t\tcentroid.append(centroidX)\n",
        "\treturn centroid\n",
        "\n",
        "def predict(centroid, data_x, data_y, data_z):\n",
        "\tdata=[]\n",
        "\tfor x in range(len(data_x)):\n",
        "\t\tt=[];i=0\n",
        "\t\tfor j in range(len(centroid)):\n",
        "\t\t\tt.append(np.sqrt((data_x[x]-centroid[j][0])**2+(data_y[x]-centroid[j][1])**2+(data_z[x]-centroid[j][2])**2))\n",
        "\t\twhile (min(t)!=t[i]): i+=1\n",
        "\t\tdata.append(i+1)\n",
        "\treturn data\n",
        "\n",
        "def predictCityBlock(centroid, data_x, data_y, data_z):\n",
        "\tdata=[]\n",
        "\tfor x in range(len(data_x)):\n",
        "\t\tt=[];i=0\n",
        "\t\tfor j in range(len(centroid)):\n",
        "\t\t\tt.append( abs(data_x[x]-centroid[j][0]) + abs(data_y[x]-centroid[j][1]) + abs(data_z[x]-centroid[j][2]) )\n",
        "\t\twhile (min(t)!=t[i]): i+=1\n",
        "\t\tdata.append(i+1)\n",
        "\treturn data\n",
        "\n",
        "def titikBaru(centroid, data_x, data_y, data_z):\n",
        "\thasil=[]\n",
        "\tfor i in range(3):\n",
        "\t\ttemp=[];x=[];y=[];z=[]\n",
        "\t\tfor j in range(len(centroid)):\n",
        "\t\t\tif(centroid[j]==i+1):\n",
        "\t\t\t\tx.append(data_x[j])\n",
        "\t\t\t\ty.append(data_y[j])\n",
        "\t\t\t\tz.append(data_z[j])\n",
        "\t\tx1=0;y1=0;z1=0\n",
        "\t\tif(x!=[]):\n",
        "\t\t\tx1=sum(x)/len(x)\n",
        "\t\t\ty1=sum(y)/len(y)\n",
        "\t\t\tz1=sum(z)/len(z)\n",
        "\t\ttemp.append(x1);temp.append(y1);temp.append(z1)\n",
        "\t\thasil.append(temp)\n",
        "\treturn hasil\n",
        "\n",
        "def plot(centroid, data, data_x, data_y, data_z, labelX, labelY, labelZ, title):\n",
        "\tx=[];y=[];z=[];x1=[];y1=[];z1=[];x2=[];y2=[];z2=[];x3=[];y3=[];z3=[]\n",
        "\tfor i in range(len(data_x)):\n",
        "\t\tif(data[i]==1):\n",
        "\t\t\tx1.append(data_x[i])\n",
        "\t\t\ty1.append(data_y[i])\n",
        "\t\t\tz1.append(data_z[i])\n",
        "\t\telif(data[i]==2):\n",
        "\t\t\tx2.append(data_x[i])\n",
        "\t\t\ty2.append(data_y[i])\t\n",
        "\t\t\tz2.append(data_z[i])\t\n",
        "\t\telif(data[i]==3):\n",
        "\t\t\tx3.append(data_x[i])\n",
        "\t\t\ty3.append(data_y[i])\n",
        "\t\t\tz3.append(data_z[i])\n",
        "\n",
        "\tfor j in range(len(centroid)):\n",
        "\t\tx.append(centroid[j][0])\n",
        "\t\ty.append(centroid[j][1])\n",
        "\t\tz.append(centroid[j][1])\n",
        "\tpt = plt.figure().add_subplot(111, projection='3d')\n",
        "\tpt.scatter(x1,y1,z1, color='orange');pt.scatter(x2,y2,z2, color='blue')\n",
        "\tpt.scatter(x3,y3,z3, color='green')\n",
        "\tpt.scatter(x,y,z, color='black')\n",
        "\tplt.title(title)\n",
        "\tpt.set_xlabel(labelX)\n",
        "\tpt.set_ylabel(labelY)\n",
        "\tpt.set_zlabel(labelZ)\n",
        "\tplt.show()\n",
        " \n",
        "def prdictNaiveBayes(data, test):\n",
        "  satu = data[data.group == 1];dua = data[data.group == 2];tiga = data[data.group == 3]\n",
        "  test = test.to_numpy()\n",
        "  var=[];mean=[]\n",
        "  var.append(satu.var().to_numpy()); mean.append(satu.mean().to_numpy())\n",
        "  var.append(dua.var().to_numpy()); mean.append(dua.mean().to_numpy())\n",
        "  var.append(tiga.var().to_numpy()); mean.append(tiga.mean().to_numpy())\n",
        "  predict=[]\n",
        "  for i  in range (len(test)):\n",
        "    hasil=[]; l=0\n",
        "    for j in range (len(var)):\n",
        "      temp=[]\n",
        "      for k in range (len(var[0])-1):\n",
        "        temp.append((1/np.sqrt(var[j][k])*np.sqrt(2*np.pi))*np.exp(-(test[i][k]-mean[j][k])**2/2*var[j][k]))\n",
        "      hasil.append(np.prod(temp)*(len(data[data.group == j+1])/len(data)))\n",
        "    while (max(hasil)!=hasil[l]): l+=1\n",
        "    predict.append(l+1)\n",
        "  return predict"
      ],
      "execution_count": 0,
      "outputs": []
    },
    {
      "cell_type": "markdown",
      "metadata": {
        "id": "uJDF2_ITDpa4",
        "colab_type": "text"
      },
      "source": [
        "Fungsi KMeans dan Naive Bayes"
      ]
    },
    {
      "cell_type": "code",
      "metadata": {
        "id": "7CXD91PQmEGL",
        "colab_type": "code",
        "colab": {}
      },
      "source": [
        "url = 'https://raw.githubusercontent.com/nyomanyoga/machine_learning/master/data_set/used_cars.csv'\n",
        "data = pd.read_csv(url)\n",
        "\n",
        "# Kolom yang digunakan\n",
        "data= data[['price','year','manufacturer','condition','odometer','type']]\n",
        "\n",
        "# Menghapus data kosong\n",
        "data.dropna(inplace=True)\n",
        "\n",
        "# Mengisi data kosong dengan nilai rata2\n",
        "# data.fillna(data.mean())\n",
        "\n",
        "# Mencari outlier dengan boxplot\n",
        "# sns.boxplot(data[['price']])\n",
        "# sns.boxplot(data[['year']])\n",
        "# sns.boxplot(data[['odometer']])\n",
        "\n",
        "# Menghapus outlier\n",
        "data=data[(data.year>1997) & (data.price<30000) & (data.odometer<250000)]\n",
        "\n",
        "# Membagi data antara angka dengan tulisan\n",
        "data1=data.drop(columns=['manufacturer','condition','type'])\n",
        "data2=data.drop(columns=['price','year','odometer'])\n",
        "\n",
        "# Normalisasi skala data\n",
        "minmax=preprocessing.MinMaxScaler().fit_transform(data1)\n",
        "data1=pd.DataFrame(minmax, index=data.index, columns=['price','year','odometer'])\n",
        "\n",
        "for i in range(3):\n",
        "  data2.to_numpy()[:,i]=LabelEncoder().fit_transform(data2.to_numpy()[:,i])\n"
      ],
      "execution_count": 0,
      "outputs": []
    },
    {
      "cell_type": "markdown",
      "metadata": {
        "id": "SmsNts5GDXSd",
        "colab_type": "text"
      },
      "source": [
        "Preprocessing data \"used_cars.csv\""
      ]
    },
    {
      "cell_type": "code",
      "metadata": {
        "id": "TqKKqpC7OLjj",
        "colab_type": "code",
        "colab": {}
      },
      "source": [
        "# Mengubah dataFrame ke list numpy\n",
        "data_x = data1['price'].to_numpy(); data_y = data1['year'].to_numpy(); data_z = data2['manufacturer'].to_numpy()\n",
        "\n",
        "titik_centroid = centroidRandom(data_x.max(), data_y.max(), data_z.max())\n",
        "titik_centroid2 = titik_centroid \n",
        "i = 0\n",
        "while(i < 10 or b2 != titik_centroid2 or b != titik_centroid):\n",
        "  b = titik_centroid\n",
        "  b2 = titik_centroid2\n",
        "  hasil_pengelompokan = predict(titik_centroid, data_x, data_y, data_z)\n",
        "  hasil_pengelompokan2 = predictCityBlock(titik_centroid2, data_x, data_y, data_z)\n",
        "  titik_centroid = titikBaru(hasil_pengelompokan, data_x, data_y, data_z)\n",
        "  titik_centroid2 = titikBaru(hasil_pengelompokan2, data_x, data_y, data_z)\n",
        "  i+=1\n",
        "\n",
        "print(\"Akurasi Kemiripan :\", r2_score(titik_centroid, titik_centroid2)*100, \"%\\n\")\n",
        "print(\"Titik Centroid :\",titik_centroid)\n",
        "print(\"\\n\")\n",
        "plot(titik_centroid, hasil_pengelompokan, data_x, data_y, data_z, \"Price\", \"Year\", \"Manufacturer\", \"Euclidean Distance\")\n",
        "print(\"\\n\")\n",
        "plot(titik_centroid2, hasil_pengelompokan2, data_x, data_y, data_z, \"Price\", \"Year\", \"Manufacturer\", \"Manhhattan/City Block Distance\")"
      ],
      "execution_count": 0,
      "outputs": []
    },
    {
      "cell_type": "markdown",
      "metadata": {
        "id": "WTZYXmgPD0pI",
        "colab_type": "text"
      },
      "source": [
        "Clustering KMeans Model k = 5 :\n",
        "1. Gambar 1 menggunakan euclidean ('Price', 'Year', 'manufacturer')\n",
        "2. Gambar 2 menggunakan city block/manhattan ('Price', 'Year', 'Manufacturer')\n",
        "\n",
        "Deskripsi Warna :\n",
        "* Orange, cluster 1\n",
        "* Blue, cluster 2\n",
        "* Green, cluster 3\n",
        "\n",
        "\n",
        "\n",
        "\n"
      ]
    },
    {
      "cell_type": "code",
      "metadata": {
        "id": "WnLrPZBzqOTq",
        "colab_type": "code",
        "outputId": "9be218f1-912a-431f-b241-0b033e716a5a",
        "colab": {
          "base_uri": "https://localhost:8080/",
          "height": 54
        }
      },
      "source": [
        "centroid_fix = titik_centroid\n",
        "x = data1[['price', 'year']]; x['manufacturer'] = data2['manufacturer']\n",
        "y=hasil_pengelompokan\n",
        "\n",
        "# Split Data KNN\n",
        "data_train, data_test, predict_train, predict_test = train_test_split(x, y, test_size=0.2)\n",
        "\n",
        "# KNN Clasification tanpa Library\n",
        "predict = predict(centroid_fix, data_test['price'].to_numpy(), data_test['year'].to_numpy(), data_test['manufacturer'].to_numpy())\n",
        "\n",
        "print('KNN Clasification Tanpa Library\\t:', r2_score(predict_test, predict)*100, '%')\n",
        "\n",
        "# KNN Clasification Library\n",
        "KNN = KNeighborsClassifier(n_neighbors=3)\n",
        "KNN.fit(data_train, predict_train)\n",
        "predict_KNN = KNN.predict(data_test)\n",
        "\n",
        "print('KNN Clasification Library\\t:', r2_score(predict_test, predict_KNN)*100, '%')"
      ],
      "execution_count": 51,
      "outputs": [
        {
          "output_type": "stream",
          "text": [
            "KNN Clasification Tanpa Library\t: 100.0 %\n",
            "KNN Clasification Library\t: 100.0 %\n"
          ],
          "name": "stdout"
        }
      ]
    },
    {
      "cell_type": "markdown",
      "metadata": {
        "id": "9qw3aI0DqPAB",
        "colab_type": "text"
      },
      "source": [
        "KNN Clasification"
      ]
    },
    {
      "cell_type": "code",
      "metadata": {
        "id": "HZIamablD2vM",
        "colab_type": "code",
        "outputId": "a0089dbd-b636-4a27-c5ea-df3a80702724",
        "colab": {
          "base_uri": "https://localhost:8080/",
          "height": 54
        }
      },
      "source": [
        "x = data1[['price','year']]\n",
        "x[['manufacturer']]=data2[['manufacturer']]\n",
        "y = hasil_pengelompokan\n",
        "\n",
        "data_baru = x\n",
        "data_baru['group'] = hasil_pengelompokan\n",
        "\n",
        "# Membagi data train dengan data test (80 : 20)\n",
        "x_train, x_test, y_train, y_test = train_test_split(x, y, test_size=0.2)\n",
        "\n",
        "# Naive Bayes Tanpa Library\n",
        "y_predict = prdictNaiveBayes(data_baru, x_test)\n",
        "\n",
        "# Naive Bayes Library\n",
        "NB = GaussianNB()\n",
        "NB.fit(x_train, y_train)\n",
        "y_predict2 = NB.predict(x_test)\n",
        "\n",
        "\n",
        "print('Naive Bayes Tanpa Library\\t:',r2_score(y_test, y_predict)*100, '%')\n",
        "print('Naive Bayes\\t\\t\\t:',r2_score(y_test, y_predict2)*100, '%')"
      ],
      "execution_count": 52,
      "outputs": [
        {
          "output_type": "stream",
          "text": [
            "Naive Bayes Tanpa Library\t: 96.39095632635866 %\n",
            "Naive Bayes\t\t\t: 100.0 %\n"
          ],
          "name": "stdout"
        }
      ]
    },
    {
      "cell_type": "markdown",
      "metadata": {
        "id": "b2AFEj4Y1GFI",
        "colab_type": "text"
      },
      "source": [
        "Naive Bayes Clasification"
      ]
    },
    {
      "cell_type": "code",
      "metadata": {
        "id": "VpXbDKCp05dx",
        "colab_type": "code",
        "colab": {}
      },
      "source": [
        "data['group'] = hasil_pengelompokan\n",
        "data.to_csv('hasil.csv')\n",
        "print(data)"
      ],
      "execution_count": 0,
      "outputs": []
    },
    {
      "cell_type": "markdown",
      "metadata": {
        "id": "w5bTF4Dm068X",
        "colab_type": "text"
      },
      "source": [
        "Menulis data hasil eksplorasi ke hasil.csv"
      ]
    }
  ]
}